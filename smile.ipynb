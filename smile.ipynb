{
 "cells": [
  {
   "cell_type": "code",
   "execution_count": 58,
   "metadata": {},
   "outputs": [],
   "source": [
    "import numpy as np\n",
    "from itertools import product\n",
    "import matplotlib.patches as patches\n",
    "import matplotlib.pyplot as plt\n",
    "import time\n",
    "\n",
    "m = 5\n",
    "n = 400 # 400, 800, 1200, 1600, 2000\n",
    "DEBUG = True\n",
    "\n",
    "def fPC (y, yhat):\n",
    "    return np.mean(y == yhat)\n",
    "\n",
    "def measureAccuracyOfPredictors (predictors, X, y):\n",
    "    yhat = np.zeros(y.shape)\n",
    "    for r1,c1,r2,c2 in predictors:\n",
    "        yhat += X[:,r1,c1] > X[:,r2,c2]\n",
    "    yhat = yhat/len(predictors) > 0.5\n",
    "    return fPC(y, yhat)\n",
    "\n",
    "def stepwiseRegression(trainingFaces, trainingLabels, testingFaces, testingLabels):\n",
    "    \n",
    "    start_time = time.time()\n",
    "    best, loc = 0, None\n",
    "    preds = [] # predictors\n",
    "    pixels = [x for x in product(range(0,24), repeat = 4) \n",
    "              if (x[0],x[1]) != (x[2],x[3])]\n",
    "    \n",
    "    for i in range(m):\n",
    "        \n",
    "        if DEBUG:\n",
    "            print(\"Current Step : \", i)\n",
    "            print(f'{round((time.time() - start_time)/60, 3)} minutes elapsed')\n",
    "            \n",
    "        for p in pixels:\n",
    "            if p in preds: continue\n",
    "            acc, yh = measureAccuracyOfPredictors(preds + [p], X=trainingFaces, y=trainingLabels)            \n",
    "            best = max(acc, best)\n",
    "            loc = p if best == acc else loc\n",
    "            \n",
    "        \n",
    "        if DEBUG:\n",
    "            print(\"Best pixels : \", loc)\n",
    "            print(\"Best Accuracy : \", best)\n",
    "        \n",
    "        preds.append(loc)\n",
    "\n",
    "    show = True\n",
    "    if show:\n",
    "        im = testingFaces[0,:,:]\n",
    "        fig,ax = plt.subplots(1)\n",
    "        ax.imshow(im, cmap='gray')\n",
    "        \n",
    "        for r1,c1,r2,c2 in predictors:\n",
    "            color = np.random.rand(3,)\n",
    "            rect = patches.Rectangle((c1 - 0.5, r1 - 0.5), 1, 1, linewidth=2, edgecolor=color, facecolor='none')\n",
    "            ax.add_patch(rect)\n",
    "            rect = patches.Rectangle((c2 - 0.5, r2 - 0.5), 1, 1, linewidth=2, edgecolor=color, facecolor='none')\n",
    "            ax.add_patch(rect)\n",
    "        \n",
    "        plt.show()\n",
    "        \n",
    "        \n",
    "    return preds\n",
    "\n",
    "def loadData (which):\n",
    "    faces = np.load(\"{}ingFaces.npy\".format(which))\n",
    "    faces = faces.reshape(-1, 24, 24)  # Reshape from 576 to 24x24\n",
    "    labels = np.load(\"{}ingLabels.npy\".format(which))\n",
    "    return faces, labels\n"
   ]
  },
  {
   "cell_type": "code",
   "execution_count": 41,
   "metadata": {},
   "outputs": [],
   "source": [
    "import numpy as np\n",
    "from itertools import product\n",
    "import matplotlib.patches as patches\n",
    "import matplotlib.pyplot as plt\n",
    "\n",
    "m, n = 5, 400 # 400, 800, 1200, 1600, 2000\n",
    "\n",
    "def fPC (y, yhat):\n",
    "    return np.mean(y == yhat)\n",
    "\n",
    "def measureAccuracyOfPredictors1 (predictors, X, y):\n",
    "#     print(predictors)\n",
    "    yhat = np.zeros(y.shape)\n",
    "    for r1,c1,r2,c2 in predictors:\n",
    "#         print(r1,c1,r2,c2)\n",
    "        yhat += X[:,r1,c1] > X[:,r2,c2]\n",
    "    yhat = yhat/len(predictors) > 0.5\n",
    "    return fPC(y, yhat), yhat\n",
    "\n",
    "def stepwiseRegression1(trainingFaces, trainingLabels,\n",
    "                        testingFaces, testingLabels):\n",
    "    \n",
    "#     v_acc = np.vectorize(measureAccuracyOfPredictors1, excluded=['X','y'])\n",
    "\n",
    "    start_time = time.time()\n",
    "    best, loc = 0, None\n",
    "    preds = [] # predictors\n",
    "    pixels = [x for x in product(range(0,24), repeat = 4) \n",
    "              if (x[0],x[1]) != (x[2],x[3])]\n",
    "    \n",
    "    for i in range(m):\n",
    "#         vacc = v_acc(pixels, X=trainingFaces[:10], y=trainingLabels[:10])\n",
    "        print(\"Current Step : \", i)\n",
    "        print(f'{round((time.time() - start_time)/60, 3)} minutes elapsed')\n",
    "        for p in pixels:\n",
    "            if p in preds: continue\n",
    "            acc, yh = measureAccuracyOfPredictors1(preds + [p], X=trainingFaces, y=trainingLabels)\n",
    "            \n",
    "            if acc == best:\n",
    "                print(best, loc, '\\n', acc, p)\n",
    "            \n",
    "            best = max(acc, best)\n",
    "            loc = p if best == acc else loc\n",
    "            \n",
    "        \n",
    "        print(\"Best pixels : \", loc)\n",
    "        print(\"Best Accuracy : \", best)\n",
    "        preds.append(loc)\n",
    "    return preds"
   ]
  },
  {
   "cell_type": "code",
   "execution_count": 60,
   "metadata": {
    "scrolled": false
   },
   "outputs": [
    {
     "name": "stdout",
     "output_type": "stream",
     "text": [
      "Current Step :  0\n",
      "0.003 minutes elapsed\n",
      "Best pixels :  (21, 16, 17, 7)\n",
      "Best Accuracy :  0.715\n",
      "Current Step :  1\n",
      "0.196 minutes elapsed\n",
      "Best pixels :  (13, 4, 11, 14)\n",
      "Best Accuracy :  0.76\n",
      "Current Step :  2\n",
      "0.428 minutes elapsed\n",
      "Best pixels :  (17, 7, 15, 7)\n",
      "Best Accuracy :  0.82\n",
      "Current Step :  3\n",
      "0.703 minutes elapsed\n",
      "Best pixels :  (11, 4, 2, 22)\n",
      "Best Accuracy :  0.84\n",
      "Current Step :  4\n",
      "1.016 minutes elapsed\n",
      "Best pixels :  (18, 10, 12, 8)\n",
      "Best Accuracy :  0.865\n"
     ]
    },
    {
     "ename": "NameError",
     "evalue": "name 'numpy' is not defined",
     "output_type": "error",
     "traceback": [
      "\u001b[0;31m---------------------------------------------------------------------------\u001b[0m",
      "\u001b[0;31mNameError\u001b[0m                                 Traceback (most recent call last)",
      "\u001b[0;32m<ipython-input-60-5102a60cef74>\u001b[0m in \u001b[0;36m<module>\u001b[0;34m\u001b[0m\n\u001b[1;32m      1\u001b[0m \u001b[0mtestingFaces\u001b[0m\u001b[0;34m,\u001b[0m \u001b[0mtestingLabels\u001b[0m \u001b[0;34m=\u001b[0m \u001b[0mloadData\u001b[0m\u001b[0;34m(\u001b[0m\u001b[0;34m\"test\"\u001b[0m\u001b[0;34m)\u001b[0m\u001b[0;34m\u001b[0m\u001b[0;34m\u001b[0m\u001b[0m\n\u001b[1;32m      2\u001b[0m \u001b[0mtrainingFaces\u001b[0m\u001b[0;34m,\u001b[0m \u001b[0mtrainingLabels\u001b[0m \u001b[0;34m=\u001b[0m \u001b[0mloadData\u001b[0m\u001b[0;34m(\u001b[0m\u001b[0;34m\"train\"\u001b[0m\u001b[0;34m)\u001b[0m\u001b[0;34m\u001b[0m\u001b[0;34m\u001b[0m\u001b[0m\n\u001b[0;32m----> 3\u001b[0;31m \u001b[0mpredictors\u001b[0m \u001b[0;34m=\u001b[0m \u001b[0mstepwiseRegression\u001b[0m\u001b[0;34m(\u001b[0m\u001b[0mtrainingFaces\u001b[0m\u001b[0;34m[\u001b[0m\u001b[0;34m:\u001b[0m\u001b[0;36m200\u001b[0m\u001b[0;34m]\u001b[0m\u001b[0;34m,\u001b[0m \u001b[0mtrainingLabels\u001b[0m\u001b[0;34m[\u001b[0m\u001b[0;34m:\u001b[0m\u001b[0;36m200\u001b[0m\u001b[0;34m]\u001b[0m\u001b[0;34m,\u001b[0m \u001b[0mtestingFaces\u001b[0m\u001b[0;34m,\u001b[0m \u001b[0mtestingLabels\u001b[0m\u001b[0;34m)\u001b[0m\u001b[0;34m\u001b[0m\u001b[0;34m\u001b[0m\u001b[0m\n\u001b[0m\u001b[1;32m      4\u001b[0m \u001b[0mprint\u001b[0m\u001b[0;34m(\u001b[0m\u001b[0mpredictors\u001b[0m\u001b[0;34m)\u001b[0m\u001b[0;34m\u001b[0m\u001b[0;34m\u001b[0m\u001b[0m\n",
      "\u001b[0;32m<ipython-input-58-4887b3917a38>\u001b[0m in \u001b[0;36mstepwiseRegression\u001b[0;34m(trainingFaces, trainingLabels, testingFaces, testingLabels)\u001b[0m\n\u001b[1;32m     53\u001b[0m \u001b[0;34m\u001b[0m\u001b[0m\n\u001b[1;32m     54\u001b[0m         \u001b[0;32mfor\u001b[0m \u001b[0mr1\u001b[0m\u001b[0;34m,\u001b[0m\u001b[0mc1\u001b[0m\u001b[0;34m,\u001b[0m\u001b[0mr2\u001b[0m\u001b[0;34m,\u001b[0m\u001b[0mc2\u001b[0m \u001b[0;32min\u001b[0m \u001b[0mpredictors\u001b[0m\u001b[0;34m:\u001b[0m\u001b[0;34m\u001b[0m\u001b[0;34m\u001b[0m\u001b[0m\n\u001b[0;32m---> 55\u001b[0;31m             \u001b[0mcolor\u001b[0m \u001b[0;34m=\u001b[0m \u001b[0mnumpy\u001b[0m\u001b[0;34m.\u001b[0m\u001b[0mrandom\u001b[0m\u001b[0;34m.\u001b[0m\u001b[0mrand\u001b[0m\u001b[0;34m(\u001b[0m\u001b[0;36m3\u001b[0m\u001b[0;34m,\u001b[0m\u001b[0;34m)\u001b[0m\u001b[0;34m\u001b[0m\u001b[0;34m\u001b[0m\u001b[0m\n\u001b[0m\u001b[1;32m     56\u001b[0m             \u001b[0mrect\u001b[0m \u001b[0;34m=\u001b[0m \u001b[0mpatches\u001b[0m\u001b[0;34m.\u001b[0m\u001b[0mRectangle\u001b[0m\u001b[0;34m(\u001b[0m\u001b[0;34m(\u001b[0m\u001b[0mc1\u001b[0m \u001b[0;34m-\u001b[0m \u001b[0;36m0.5\u001b[0m\u001b[0;34m,\u001b[0m \u001b[0mr1\u001b[0m \u001b[0;34m-\u001b[0m \u001b[0;36m0.5\u001b[0m\u001b[0;34m)\u001b[0m\u001b[0;34m,\u001b[0m \u001b[0;36m1\u001b[0m\u001b[0;34m,\u001b[0m \u001b[0;36m1\u001b[0m\u001b[0;34m,\u001b[0m \u001b[0mlinewidth\u001b[0m\u001b[0;34m=\u001b[0m\u001b[0;36m2\u001b[0m\u001b[0;34m,\u001b[0m \u001b[0medgecolor\u001b[0m\u001b[0;34m=\u001b[0m\u001b[0mcolor\u001b[0m\u001b[0;34m,\u001b[0m \u001b[0mfacecolor\u001b[0m\u001b[0;34m=\u001b[0m\u001b[0;34m'none'\u001b[0m\u001b[0;34m)\u001b[0m\u001b[0;34m\u001b[0m\u001b[0;34m\u001b[0m\u001b[0m\n\u001b[1;32m     57\u001b[0m             \u001b[0max\u001b[0m\u001b[0;34m.\u001b[0m\u001b[0madd_patch\u001b[0m\u001b[0;34m(\u001b[0m\u001b[0mrect\u001b[0m\u001b[0;34m)\u001b[0m\u001b[0;34m\u001b[0m\u001b[0;34m\u001b[0m\u001b[0m\n",
      "\u001b[0;31mNameError\u001b[0m: name 'numpy' is not defined"
     ]
    },
    {
     "data": {
      "image/png": "[encoded data removed]",
      "text/plain": [
       "<Figure size 432x288 with 1 Axes>"
      ]
     },
     "metadata": {
      "needs_background": "light"
     },
     "output_type": "display_data"
    }
   ],
   "source": [
    "testingFaces, testingLabels = loadData(\"test\")\n",
    "trainingFaces, trainingLabels = loadData(\"train\")\n",
    "predictors = stepwiseRegression(trainingFaces[:200], trainingLabels[:200], testingFaces, testingLabels)\n",
    "print(predictors)"
   ]
  },
  {
   "cell_type": "code",
   "execution_count": 32,
   "metadata": {},
   "outputs": [
    {
     "data": {
      "text/plain": [
       "0.7527352297592997"
      ]
     },
     "execution_count": 32,
     "metadata": {},
     "output_type": "execute_result"
    }
   ],
   "source": [
    "measureAccuracyOfPredictors(predictors, testingFaces, testingLabels)"
   ]
  },
  {
   "cell_type": "code",
   "execution_count": 56,
   "metadata": {
    "scrolled": false
   },
   "outputs": [
    {
     "name": "stdout",
     "output_type": "stream",
     "text": [
      "400\n",
      "(2000, 24, 24)\n",
      "(400, 24, 24)\n",
      "800\n",
      "(2000, 24, 24)\n",
      "(400, 24, 24)\n",
      "1200\n",
      "(2000, 24, 24)\n",
      "(400, 24, 24)\n",
      "1600\n",
      "(2000, 24, 24)\n",
      "(400, 24, 24)\n",
      "2000\n",
      "(2000, 24, 24)\n",
      "(400, 24, 24)\n",
      "[(20, 7, 17, 7), (13, 5, 11, 13), (20, 17, 16, 17), (12, 18, 10, 13), (19, 11, 14, 7)]\n"
     ]
    }
   ],
   "source": [
    "testingFaces, testingLabels = loadData(\"test\")\n",
    "trainingFaces, trainingLabels = loadData(\"train\")\n",
    "for a in range(1,6):\n",
    "    predictors = stepwiseRegression(trainingFaces[:400*a], trainingLabels[:400*a], testingFaces, testingLabels)"
   ]
  },
  {
   "cell_type": "code",
   "execution_count": null,
   "metadata": {},
   "outputs": [],
   "source": [
    "preds = [(20, 7, 17, 7), (13, 5, 11, 13), (20, 17, 16, 17), (12, 18, 10, 13), (19, 11, 14, 7)]\n",
    "\n",
    "im = testingFaces[0,:,:]\n",
    "fig,ax = plt.subplots(1)\n",
    "ax.imshow(im, cmap='gray')\n",
    "\n",
    "for r1,c1,r2,c2 in predictors:\n",
    "    color = numpy.random.rand(3,)\n",
    "    rect = patches.Rectangle((c1 - 0.5, r1 - 0.5), 1, 1, linewidth=2, edgecolor=color, facecolor='none')\n",
    "    ax.add_patch(rect)\n",
    "    rect = patches.Rectangle((c2 - 0.5, r2 - 0.5), 1, 1, linewidth=2, edgecolor=color, facecolor='none')\n",
    "    ax.add_patch(rect)\n",
    "\n",
    "plt.show()"
   ]
  }
 ],
 "metadata": {
  "kernelspec": {
   "display_name": "Python 3",
   "language": "python",
   "name": "python3"
  },
  "language_info": {
   "codemirror_mode": {
    "name": "ipython",
    "version": 3
   },
   "file_extension": ".py",
   "mimetype": "text/x-python",
   "name": "python",
   "nbconvert_exporter": "python",
   "pygments_lexer": "ipython3",
   "version": "3.6.8"
  }
 },
 "nbformat": 4,
 "nbformat_minor": 4
}
