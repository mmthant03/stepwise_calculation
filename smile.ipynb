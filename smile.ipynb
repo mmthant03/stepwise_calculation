{
 "cells": [
  {
   "cell_type": "code",
   "execution_count": 7,
   "metadata": {},
   "outputs": [],
   "source": [
    "import numpy as np\n",
    "from itertools import product\n",
    "import matplotlib.patches as patches\n",
    "import matplotlib.pyplot as plt\n",
    "import time\n",
    "\n",
    "m = 5\n",
    "n = 400 # 400, 800, 1200, 1600, 2000\n",
    "DEBUG = True\n",
    "\n",
    "def fPC(y, yhat):\n",
    "    return np.mean(y == yhat)\n",
    "\n",
    "def measureAccuracyOfPredictors(predictors, X, y):\n",
    "    yhat = np.zeros(y.shape)\n",
    "    for r1,c1,r2,c2 in predictors:\n",
    "        yhat += X[:,r1,c1] > X[:,r2,c2]\n",
    "    yhat = yhat/len(predictors) > 0.5\n",
    "    return fPC(y, yhat)\n",
    "\n",
    "def stepwiseRegression(trainingFaces, trainingLabels, testingFaces, testingLabels):\n",
    "    \n",
    "    start_time = time.time()\n",
    "    best, loc = 0, None\n",
    "    preds = [] # predictors\n",
    "    pixels = [x for x in product(range(0,24), repeat = 4) \n",
    "              if (x[0],x[1]) != (x[2],x[3])]\n",
    "    \n",
    "    for i in range(m):\n",
    "        \n",
    "        if DEBUG:\n",
    "            print(\"Current Step : \", i)\n",
    "            print(f'{round((time.time() - start_time)/60, 3)} minutes elapsed')\n",
    "            \n",
    "        for p in pixels:\n",
    "            if p in preds: continue\n",
    "            acc = measureAccuracyOfPredictors(preds + [p], X=trainingFaces, y=trainingLabels)            \n",
    "            best = max(acc, best)\n",
    "            loc = p if best == acc else loc\n",
    "            \n",
    "        \n",
    "        if DEBUG:\n",
    "            print(\"Best pixels : \", loc)\n",
    "            print(\"Best Accuracy : \", best)\n",
    "        \n",
    "        preds.append(loc)\n",
    "\n",
    "    show = True\n",
    "    if show:\n",
    "        im = testingFaces[0,:,:]\n",
    "        fig,ax = plt.subplots(1)\n",
    "        ax.imshow(im, cmap='gray')\n",
    "        \n",
    "        for r1,c1,r2,c2 in predictors:\n",
    "            color = np.random.rand(3,)\n",
    "            rect = patches.Rectangle((c1 - 0.5, r1 - 0.5), 1, 1, linewidth=2, edgecolor=color, facecolor='none')\n",
    "            ax.add_patch(rect)\n",
    "            rect = patches.Rectangle((c2 - 0.5, r2 - 0.5), 1, 1, linewidth=2, edgecolor=color, facecolor='none')\n",
    "            ax.add_patch(rect)\n",
    "        \n",
    "        plt.show()\n",
    "        \n",
    "        \n",
    "    return preds, best\n",
    "\n",
    "def loadData (which):\n",
    "    faces = np.load(\"{}ingFaces.npy\".format(which))\n",
    "    faces = faces.reshape(-1, 24, 24)  # Reshape from 576 to 24x24\n",
    "    labels = np.load(\"{}ingLabels.npy\".format(which))\n",
    "    return faces, labels\n"
   ]
  },
  {
   "cell_type": "code",
   "execution_count": 12,
   "metadata": {},
   "outputs": [
    {
     "data": {
      "image/png": "[encoded data removed]",
      "text/plain": [
       "<Figure size 432x288 with 1 Axes>"
      ]
     },
     "metadata": {
      "needs_background": "light"
     },
     "output_type": "display_data"
    }
   ],
   "source": [
    "predictors=[(20, 7, 17, 7),(13, 5, 11, 13),(20, 17, 16, 17),(12, 18, 10, 13),(19, 11, 14, 7)]\n",
    "colors = ['red', 'green', 'blue', 'yellow', 'magenta']    \n",
    "im = testingFaces[0,:,:]\n",
    "fig,ax = plt.subplots(1)\n",
    "ax.imshow(im, cmap='gray')\n",
    "\n",
    "for i, (r1,c1,r2,c2) in enumerate(predictors):\n",
    "    color = np.random.rand(3,)\n",
    "    rect = patches.Rectangle((c1 - 0.5, r1 - 0.5), 1, 1, linewidth=2, edgecolor=colors[i], facecolor='none')\n",
    "    ax.add_patch(rect)\n",
    "    rect = patches.Rectangle((c2 - 0.5, r2 - 0.5), 1, 1, linewidth=2, edgecolor=colors[i], facecolor='none')\n",
    "    ax.add_patch(rect)\n",
    "\n",
    "plt.show()"
   ]
  },
  {
   "cell_type": "code",
   "execution_count": 8,
   "metadata": {
    "scrolled": false
   },
   "outputs": [
    {
     "name": "stdout",
     "output_type": "stream",
     "text": [
      "Current Step :  0\n",
      "0.004 minutes elapsed\n",
      "Best pixels :  (20, 7, 17, 7)\n",
      "Best Accuracy :  0.7105\n",
      "Current Step :  1\n",
      "0.429 minutes elapsed\n",
      "Best pixels :  (13, 5, 11, 13)\n",
      "Best Accuracy :  0.7155\n",
      "Current Step :  2\n",
      "1.046 minutes elapsed\n",
      "Best pixels :  (20, 17, 16, 17)\n",
      "Best Accuracy :  0.7645\n",
      "Current Step :  3\n",
      "1.819 minutes elapsed\n",
      "Best pixels :  (12, 18, 10, 13)\n",
      "Best Accuracy :  0.77\n",
      "Current Step :  4\n",
      "2.793 minutes elapsed\n",
      "Best pixels :  (19, 11, 14, 7)\n",
      "Best Accuracy :  0.784\n"
     ]
    },
    {
     "data": {
      "image/png": "[encoded data removed]",
      "text/plain": [
       "<Figure size 432x288 with 1 Axes>"
      ]
     },
     "metadata": {
      "needs_background": "light"
     },
     "output_type": "display_data"
    },
    {
     "name": "stdout",
     "output_type": "stream",
     "text": [
      "n \t trainAccuracy \t testAccuracy\n",
      "Current Step :  0\n",
      "0.003 minutes elapsed\n",
      "Best pixels :  (21, 16, 17, 7)\n",
      "Best Accuracy :  0.71\n",
      "Current Step :  1\n",
      "0.218 minutes elapsed\n",
      "Best pixels :  (13, 4, 11, 14)\n",
      "Best Accuracy :  0.745\n",
      "Current Step :  2\n",
      "0.483 minutes elapsed\n",
      "Best pixels :  (20, 6, 15, 8)\n",
      "Best Accuracy :  0.79\n",
      "Current Step :  3\n",
      "0.791 minutes elapsed\n",
      "Best pixels :  (12, 5, 11, 13)\n",
      "Best Accuracy :  0.805\n",
      "Current Step :  4\n",
      "1.146 minutes elapsed\n",
      "Best pixels :  (18, 7, 16, 7)\n",
      "Best Accuracy :  0.825\n"
     ]
    },
    {
     "data": {
      "image/png": "[encoded data removed]",
      "text/plain": [
       "<Figure size 432x288 with 1 Axes>"
      ]
     },
     "metadata": {
      "needs_background": "light"
     },
     "output_type": "display_data"
    },
    {
     "name": "stdout",
     "output_type": "stream",
     "text": [
      "n \t 0.825 \t 0.7358\n",
      "Current Step :  0\n",
      "0.003 minutes elapsed\n",
      "Best pixels :  (20, 7, 17, 7)\n",
      "Best Accuracy :  0.7125\n",
      "Current Step :  1\n",
      "0.27 minutes elapsed\n",
      "Best pixels :  (13, 5, 11, 13)\n",
      "Best Accuracy :  0.72625\n",
      "Current Step :  2\n",
      "0.605 minutes elapsed\n",
      "Best pixels :  (18, 12, 16, 17)\n",
      "Best Accuracy :  0.77625\n",
      "Current Step :  3\n",
      "0.986 minutes elapsed\n",
      "Best pixels :  (13, 18, 15, 8)\n",
      "Best Accuracy :  0.78625\n",
      "Current Step :  4\n",
      "1.461 minutes elapsed\n",
      "Best pixels :  (19, 8, 14, 16)\n",
      "Best Accuracy :  0.80875\n"
     ]
    },
    {
     "data": {
      "image/png": "[encoded data removed]",
      "text/plain": [
       "<Figure size 432x288 with 1 Axes>"
      ]
     },
     "metadata": {
      "needs_background": "light"
     },
     "output_type": "display_data"
    },
    {
     "name": "stdout",
     "output_type": "stream",
     "text": [
      "n \t 0.8088 \t 0.7549\n",
      "Current Step :  0\n",
      "0.003 minutes elapsed\n"
     ]
    },
    {
     "ename": "KeyboardInterrupt",
     "evalue": "",
     "output_type": "error",
     "traceback": [
      "\u001b[0;31m---------------------------------------------------------------------------\u001b[0m",
      "\u001b[0;31mKeyboardInterrupt\u001b[0m                         Traceback (most recent call last)",
      "\u001b[0;32m<ipython-input-8-b9e05b4e4687>\u001b[0m in \u001b[0;36m<module>\u001b[0;34m\u001b[0m\n\u001b[1;32m      6\u001b[0m \u001b[0mprint\u001b[0m\u001b[0;34m(\u001b[0m\u001b[0;34m'n \\t trainAccuracy \\t testAccuracy'\u001b[0m\u001b[0;34m)\u001b[0m\u001b[0;34m\u001b[0m\u001b[0;34m\u001b[0m\u001b[0m\n\u001b[1;32m      7\u001b[0m \u001b[0;32mfor\u001b[0m \u001b[0ma\u001b[0m \u001b[0;32min\u001b[0m \u001b[0mrange\u001b[0m\u001b[0;34m(\u001b[0m\u001b[0;36m1\u001b[0m\u001b[0;34m,\u001b[0m\u001b[0;36m6\u001b[0m\u001b[0;34m)\u001b[0m\u001b[0;34m:\u001b[0m\u001b[0;34m\u001b[0m\u001b[0;34m\u001b[0m\u001b[0m\n\u001b[0;32m----> 8\u001b[0;31m     \u001b[0mpredictors\u001b[0m\u001b[0;34m,\u001b[0m \u001b[0mtrain_acc\u001b[0m \u001b[0;34m=\u001b[0m \u001b[0mstepwiseRegression\u001b[0m\u001b[0;34m(\u001b[0m\u001b[0mtrainingFaces\u001b[0m\u001b[0;34m[\u001b[0m\u001b[0;34m:\u001b[0m\u001b[0;36m400\u001b[0m\u001b[0;34m*\u001b[0m\u001b[0ma\u001b[0m\u001b[0;34m]\u001b[0m\u001b[0;34m,\u001b[0m \u001b[0mtrainingLabels\u001b[0m\u001b[0;34m[\u001b[0m\u001b[0;34m:\u001b[0m\u001b[0;36m400\u001b[0m\u001b[0;34m*\u001b[0m\u001b[0ma\u001b[0m\u001b[0;34m]\u001b[0m\u001b[0;34m,\u001b[0m \u001b[0mtestingFaces\u001b[0m\u001b[0;34m,\u001b[0m \u001b[0mtestingLabels\u001b[0m\u001b[0;34m)\u001b[0m\u001b[0;34m\u001b[0m\u001b[0;34m\u001b[0m\u001b[0m\n\u001b[0m\u001b[1;32m      9\u001b[0m     \u001b[0mtest_acc\u001b[0m \u001b[0;34m=\u001b[0m \u001b[0mmeasureAccuracyOfPredictors\u001b[0m\u001b[0;34m(\u001b[0m\u001b[0mpredictors\u001b[0m\u001b[0;34m,\u001b[0m \u001b[0mtestingFaces\u001b[0m\u001b[0;34m,\u001b[0m \u001b[0mtestingLabels\u001b[0m\u001b[0;34m)\u001b[0m\u001b[0;34m\u001b[0m\u001b[0;34m\u001b[0m\u001b[0m\n\u001b[1;32m     10\u001b[0m     \u001b[0mtrainl\u001b[0m\u001b[0;34m.\u001b[0m\u001b[0mappend\u001b[0m\u001b[0;34m(\u001b[0m\u001b[0mtrain_acc\u001b[0m\u001b[0;34m)\u001b[0m\u001b[0;34m\u001b[0m\u001b[0;34m\u001b[0m\u001b[0m\n",
      "\u001b[0;32m<ipython-input-7-509400a5d69a>\u001b[0m in \u001b[0;36mstepwiseRegression\u001b[0;34m(trainingFaces, trainingLabels, testingFaces, testingLabels)\u001b[0m\n\u001b[1;32m     35\u001b[0m         \u001b[0;32mfor\u001b[0m \u001b[0mp\u001b[0m \u001b[0;32min\u001b[0m \u001b[0mpixels\u001b[0m\u001b[0;34m:\u001b[0m\u001b[0;34m\u001b[0m\u001b[0;34m\u001b[0m\u001b[0m\n\u001b[1;32m     36\u001b[0m             \u001b[0;32mif\u001b[0m \u001b[0mp\u001b[0m \u001b[0;32min\u001b[0m \u001b[0mpreds\u001b[0m\u001b[0;34m:\u001b[0m \u001b[0;32mcontinue\u001b[0m\u001b[0;34m\u001b[0m\u001b[0;34m\u001b[0m\u001b[0m\n\u001b[0;32m---> 37\u001b[0;31m             \u001b[0macc\u001b[0m \u001b[0;34m=\u001b[0m \u001b[0mmeasureAccuracyOfPredictors\u001b[0m\u001b[0;34m(\u001b[0m\u001b[0mpreds\u001b[0m \u001b[0;34m+\u001b[0m \u001b[0;34m[\u001b[0m\u001b[0mp\u001b[0m\u001b[0;34m]\u001b[0m\u001b[0;34m,\u001b[0m \u001b[0mX\u001b[0m\u001b[0;34m=\u001b[0m\u001b[0mtrainingFaces\u001b[0m\u001b[0;34m,\u001b[0m \u001b[0my\u001b[0m\u001b[0;34m=\u001b[0m\u001b[0mtrainingLabels\u001b[0m\u001b[0;34m)\u001b[0m\u001b[0;34m\u001b[0m\u001b[0;34m\u001b[0m\u001b[0m\n\u001b[0m\u001b[1;32m     38\u001b[0m             \u001b[0mbest\u001b[0m \u001b[0;34m=\u001b[0m \u001b[0mmax\u001b[0m\u001b[0;34m(\u001b[0m\u001b[0macc\u001b[0m\u001b[0;34m,\u001b[0m \u001b[0mbest\u001b[0m\u001b[0;34m)\u001b[0m\u001b[0;34m\u001b[0m\u001b[0;34m\u001b[0m\u001b[0m\n\u001b[1;32m     39\u001b[0m             \u001b[0mloc\u001b[0m \u001b[0;34m=\u001b[0m \u001b[0mp\u001b[0m \u001b[0;32mif\u001b[0m \u001b[0mbest\u001b[0m \u001b[0;34m==\u001b[0m \u001b[0macc\u001b[0m \u001b[0;32melse\u001b[0m \u001b[0mloc\u001b[0m\u001b[0;34m\u001b[0m\u001b[0;34m\u001b[0m\u001b[0m\n",
      "\u001b[0;32m<ipython-input-7-509400a5d69a>\u001b[0m in \u001b[0;36mmeasureAccuracyOfPredictors\u001b[0;34m(predictors, X, y)\u001b[0m\n\u001b[1;32m     17\u001b[0m         \u001b[0myhat\u001b[0m \u001b[0;34m+=\u001b[0m \u001b[0mX\u001b[0m\u001b[0;34m[\u001b[0m\u001b[0;34m:\u001b[0m\u001b[0;34m,\u001b[0m\u001b[0mr1\u001b[0m\u001b[0;34m,\u001b[0m\u001b[0mc1\u001b[0m\u001b[0;34m]\u001b[0m \u001b[0;34m>\u001b[0m \u001b[0mX\u001b[0m\u001b[0;34m[\u001b[0m\u001b[0;34m:\u001b[0m\u001b[0;34m,\u001b[0m\u001b[0mr2\u001b[0m\u001b[0;34m,\u001b[0m\u001b[0mc2\u001b[0m\u001b[0;34m]\u001b[0m\u001b[0;34m\u001b[0m\u001b[0;34m\u001b[0m\u001b[0m\n\u001b[1;32m     18\u001b[0m     \u001b[0myhat\u001b[0m \u001b[0;34m=\u001b[0m \u001b[0myhat\u001b[0m\u001b[0;34m/\u001b[0m\u001b[0mlen\u001b[0m\u001b[0;34m(\u001b[0m\u001b[0mpredictors\u001b[0m\u001b[0;34m)\u001b[0m \u001b[0;34m>\u001b[0m \u001b[0;36m0.5\u001b[0m\u001b[0;34m\u001b[0m\u001b[0;34m\u001b[0m\u001b[0m\n\u001b[0;32m---> 19\u001b[0;31m     \u001b[0;32mreturn\u001b[0m \u001b[0mfPC\u001b[0m\u001b[0;34m(\u001b[0m\u001b[0my\u001b[0m\u001b[0;34m,\u001b[0m \u001b[0myhat\u001b[0m\u001b[0;34m)\u001b[0m\u001b[0;34m\u001b[0m\u001b[0;34m\u001b[0m\u001b[0m\n\u001b[0m\u001b[1;32m     20\u001b[0m \u001b[0;34m\u001b[0m\u001b[0m\n\u001b[1;32m     21\u001b[0m \u001b[0;32mdef\u001b[0m \u001b[0mstepwiseRegression\u001b[0m\u001b[0;34m(\u001b[0m\u001b[0mtrainingFaces\u001b[0m\u001b[0;34m,\u001b[0m \u001b[0mtrainingLabels\u001b[0m\u001b[0;34m,\u001b[0m \u001b[0mtestingFaces\u001b[0m\u001b[0;34m,\u001b[0m \u001b[0mtestingLabels\u001b[0m\u001b[0;34m)\u001b[0m\u001b[0;34m:\u001b[0m\u001b[0;34m\u001b[0m\u001b[0;34m\u001b[0m\u001b[0m\n",
      "\u001b[0;32m<ipython-input-7-509400a5d69a>\u001b[0m in \u001b[0;36mfPC\u001b[0;34m(y, yhat)\u001b[0m\n\u001b[1;32m     10\u001b[0m \u001b[0;34m\u001b[0m\u001b[0m\n\u001b[1;32m     11\u001b[0m \u001b[0;32mdef\u001b[0m \u001b[0mfPC\u001b[0m\u001b[0;34m(\u001b[0m\u001b[0my\u001b[0m\u001b[0;34m,\u001b[0m \u001b[0myhat\u001b[0m\u001b[0;34m)\u001b[0m\u001b[0;34m:\u001b[0m\u001b[0;34m\u001b[0m\u001b[0;34m\u001b[0m\u001b[0m\n\u001b[0;32m---> 12\u001b[0;31m     \u001b[0;32mreturn\u001b[0m \u001b[0mnp\u001b[0m\u001b[0;34m.\u001b[0m\u001b[0mmean\u001b[0m\u001b[0;34m(\u001b[0m\u001b[0my\u001b[0m \u001b[0;34m==\u001b[0m \u001b[0myhat\u001b[0m\u001b[0;34m)\u001b[0m\u001b[0;34m\u001b[0m\u001b[0;34m\u001b[0m\u001b[0m\n\u001b[0m\u001b[1;32m     13\u001b[0m \u001b[0;34m\u001b[0m\u001b[0m\n\u001b[1;32m     14\u001b[0m \u001b[0;32mdef\u001b[0m \u001b[0mmeasureAccuracyOfPredictors\u001b[0m\u001b[0;34m(\u001b[0m\u001b[0mpredictors\u001b[0m\u001b[0;34m,\u001b[0m \u001b[0mX\u001b[0m\u001b[0;34m,\u001b[0m \u001b[0my\u001b[0m\u001b[0;34m)\u001b[0m\u001b[0;34m:\u001b[0m\u001b[0;34m\u001b[0m\u001b[0;34m\u001b[0m\u001b[0m\n",
      "\u001b[0;32m<__array_function__ internals>\u001b[0m in \u001b[0;36mmean\u001b[0;34m(*args, **kwargs)\u001b[0m\n",
      "\u001b[0;32m~/pyenv/lib/python3.6/site-packages/numpy/core/fromnumeric.py\u001b[0m in \u001b[0;36mmean\u001b[0;34m(a, axis, dtype, out, keepdims)\u001b[0m\n\u001b[1;32m   3255\u001b[0m \u001b[0;34m\u001b[0m\u001b[0m\n\u001b[1;32m   3256\u001b[0m     return _methods._mean(a, axis=axis, dtype=dtype,\n\u001b[0;32m-> 3257\u001b[0;31m                           out=out, **kwargs)\n\u001b[0m\u001b[1;32m   3258\u001b[0m \u001b[0;34m\u001b[0m\u001b[0m\n\u001b[1;32m   3259\u001b[0m \u001b[0;34m\u001b[0m\u001b[0m\n",
      "\u001b[0;32m~/pyenv/lib/python3.6/site-packages/numpy/core/_methods.py\u001b[0m in \u001b[0;36m_mean\u001b[0;34m(a, axis, dtype, out, keepdims)\u001b[0m\n\u001b[1;32m    149\u001b[0m             \u001b[0mis_float16_result\u001b[0m \u001b[0;34m=\u001b[0m \u001b[0;32mTrue\u001b[0m\u001b[0;34m\u001b[0m\u001b[0;34m\u001b[0m\u001b[0m\n\u001b[1;32m    150\u001b[0m \u001b[0;34m\u001b[0m\u001b[0m\n\u001b[0;32m--> 151\u001b[0;31m     \u001b[0mret\u001b[0m \u001b[0;34m=\u001b[0m \u001b[0mumr_sum\u001b[0m\u001b[0;34m(\u001b[0m\u001b[0marr\u001b[0m\u001b[0;34m,\u001b[0m \u001b[0maxis\u001b[0m\u001b[0;34m,\u001b[0m \u001b[0mdtype\u001b[0m\u001b[0;34m,\u001b[0m \u001b[0mout\u001b[0m\u001b[0;34m,\u001b[0m \u001b[0mkeepdims\u001b[0m\u001b[0;34m)\u001b[0m\u001b[0;34m\u001b[0m\u001b[0;34m\u001b[0m\u001b[0m\n\u001b[0m\u001b[1;32m    152\u001b[0m     \u001b[0;32mif\u001b[0m \u001b[0misinstance\u001b[0m\u001b[0;34m(\u001b[0m\u001b[0mret\u001b[0m\u001b[0;34m,\u001b[0m \u001b[0mmu\u001b[0m\u001b[0;34m.\u001b[0m\u001b[0mndarray\u001b[0m\u001b[0;34m)\u001b[0m\u001b[0;34m:\u001b[0m\u001b[0;34m\u001b[0m\u001b[0;34m\u001b[0m\u001b[0m\n\u001b[1;32m    153\u001b[0m         ret = um.true_divide(\n",
      "\u001b[0;31mKeyboardInterrupt\u001b[0m: "
     ]
    }
   ],
   "source": [
    "testingFaces, testingLabels = loadData(\"test\")\n",
    "trainingFaces, trainingLabels = loadData(\"train\")\n",
    "\n",
    "trainl, testl = [], []\n",
    "predictors, train_acc = stepwiseRegression(trainingFaces, trainingLabels, testingFaces, testingLabels)\n",
    "print('n \\t trainAccuracy \\t testAccuracy')\n",
    "for a in range(1,6):\n",
    "    predictors, train_acc = stepwiseRegression(trainingFaces[:400*a], trainingLabels[:400*a], testingFaces, testingLabels)\n",
    "    test_acc = measureAccuracyOfPredictors(predictors, testingFaces, testingLabels)\n",
    "    trainl.append(train_acc)\n",
    "    testl.append(test_acc)\n",
    "    print(f'{400*a} \\t {round(train_acc,4)} \\t {round(test_acc,4)}')"
   ]
  },
  {
   "cell_type": "code",
   "execution_count": 3,
   "metadata": {},
   "outputs": [
    {
     "data": {
      "image/png": "[encoded data removed]",
      "text/plain": [
       "<Figure size 432x288 with 1 Axes>"
      ]
     },
     "metadata": {
      "needs_background": "light"
     },
     "output_type": "display_data"
    }
   ],
   "source": [
    "plt.plot(trainl, label=\"Train\")\n",
    "plt.plot(testl, label=\"Test\")\n",
    "plt.title(\"Model Accuracy\")\n",
    "plt.legend()\n",
    "plt.show()"
   ]
  },
  {
   "cell_type": "markdown",
   "metadata": {},
   "source": [
    "As the number of training examples increases, the accuracy of the training set decreases but the accuracy of the testing set increases, except for the test accuracy for when training n=2000. Had this last test accuracy increased, the curves would be essentially inverse, flipped along the y axis. Again, disregarding the final test accuracy, it appears that the curves would eventually converge and stabilize around a value of 0.78.\n",
    "\n",
    "With the simplicity of the model, it is possible that it became overfit using the full 2000 images, and using just 1600 training images is optimal for the model."
   ]
  }
 ],
 "metadata": {
  "kernelspec": {
   "display_name": "Python 3",
   "language": "python",
   "name": "python3"
  },
  "language_info": {
   "codemirror_mode": {
    "name": "ipython",
    "version": 3
   },
   "file_extension": ".py",
   "mimetype": "text/x-python",
   "name": "python",
   "nbconvert_exporter": "python",
   "pygments_lexer": "ipython3",
   "version": "3.6.8"
  }
 },
 "nbformat": 4,
 "nbformat_minor": 4
}
