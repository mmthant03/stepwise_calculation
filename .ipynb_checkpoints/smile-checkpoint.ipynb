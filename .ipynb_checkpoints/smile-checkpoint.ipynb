{
 "cells": [
  {
   "cell_type": "code",
   "execution_count": 69,
   "metadata": {},
   "outputs": [],
   "source": [
    "import numpy as np\n",
    "from itertools import product\n",
    "import matplotlib.patches as patches\n",
    "import matplotlib.pyplot as plt\n",
    "import time\n",
    "\n",
    "m = 5\n",
    "n = 400 # 400, 800, 1200, 1600, 2000\n",
    "DEBUG = False\n",
    "\n",
    "def fPC(y, yhat):\n",
    "    return np.mean(y == yhat)\n",
    "\n",
    "def measureAccuracyOfPredictors(predictors, X, y):\n",
    "    yhat = np.zeros(y.shape)\n",
    "    for r1,c1,r2,c2 in predictors:\n",
    "        yhat += X[:,r1,c1] > X[:,r2,c2]\n",
    "    yhat = yhat/len(predictors) > 0.5\n",
    "    return fPC(y, yhat)\n",
    "\n",
    "def stepwiseRegression(trainingFaces, trainingLabels, testingFaces, testingLabels):\n",
    "    \n",
    "    start_time = time.time()\n",
    "    best, loc = 0, None\n",
    "    preds = [] # predictors\n",
    "    pixels = [x for x in product(range(0,24), repeat = 4) \n",
    "              if (x[0],x[1]) != (x[2],x[3])]\n",
    "    \n",
    "    for i in range(m):\n",
    "        \n",
    "        if DEBUG:\n",
    "            print(\"Current Step : \", i)\n",
    "            print(f'{round((time.time() - start_time)/60, 3)} minutes elapsed')\n",
    "            \n",
    "        for p in pixels:\n",
    "            if p in preds: continue\n",
    "            acc = measureAccuracyOfPredictors(preds + [p], X=trainingFaces, y=trainingLabels)            \n",
    "            best = max(acc, best)\n",
    "            loc = p if best == acc else loc\n",
    "            \n",
    "        \n",
    "        if DEBUG:\n",
    "            print(\"Best pixels : \", loc)\n",
    "            print(\"Best Accuracy : \", best)\n",
    "        \n",
    "        preds.append(loc)\n",
    "\n",
    "    show = False\n",
    "    if show:\n",
    "        im = testingFaces[0,:,:]\n",
    "        fig,ax = plt.subplots(1)\n",
    "        ax.imshow(im, cmap='gray')\n",
    "        \n",
    "        for r1,c1,r2,c2 in predictors:\n",
    "            color = np.random.rand(3,)\n",
    "            rect = patches.Rectangle((c1 - 0.5, r1 - 0.5), 1, 1, linewidth=2, edgecolor=color, facecolor='none')\n",
    "            ax.add_patch(rect)\n",
    "            rect = patches.Rectangle((c2 - 0.5, r2 - 0.5), 1, 1, linewidth=2, edgecolor=color, facecolor='none')\n",
    "            ax.add_patch(rect)\n",
    "        \n",
    "        plt.show()\n",
    "        \n",
    "        \n",
    "    return preds, best\n",
    "\n",
    "def loadData (which):\n",
    "    faces = np.load(\"{}ingFaces.npy\".format(which))\n",
    "    faces = faces.reshape(-1, 24, 24)  # Reshape from 576 to 24x24\n",
    "    labels = np.load(\"{}ingLabels.npy\".format(which))\n",
    "    return faces, labels\n"
   ]
  },
  {
   "cell_type": "code",
   "execution_count": 70,
   "metadata": {
    "scrolled": false
   },
   "outputs": [
    {
     "name": "stdout",
     "output_type": "stream",
     "text": [
      "n \t trainAccuracy \t testAccuracy\n",
      "n \t 0.825 \t 0.7357768052516411\n",
      "n \t 0.80875 \t 0.7549234135667396\n",
      "n \t 0.8016666666666666 \t 0.7603938730853391\n",
      "n \t 0.78875 \t 0.7614879649890591\n",
      "n \t 0.784 \t 0.7527352297592997\n"
     ]
    }
   ],
   "source": [
    "testingFaces, testingLabels = loadData(\"test\")\n",
    "trainingFaces, trainingLabels = loadData(\"train\")\n",
    "\n",
    "trainl, testl = [], []\n",
    "\n",
    "print('n \\t trainAccuracy \\t testAccuracy')\n",
    "for a in range(1,6):\n",
    "    predictors, train_acc = stepwiseRegression(trainingFaces[:400*a], trainingLabels[:400*a], testingFaces, testingLabels)\n",
    "    test_acc = measureAccuracyOfPredictors(predictors, testingFaces, testingLabels)\n",
    "    trainl.append(train_acc)\n",
    "    testl.append(test_acc)\n",
    "    print(f'n \\t {round(train_acc,4)} \\t {round(test_acc,4)}')"
   ]
  },
  {
   "cell_type": "code",
   "execution_count": 71,
   "metadata": {},
   "outputs": [
    {
     "data": {
      "image/png": "[encoded data removed]",
      "text/plain": [
       "<Figure size 432x288 with 1 Axes>"
      ]
     },
     "metadata": {
      "needs_background": "light"
     },
     "output_type": "display_data"
    }
   ],
   "source": [
    "plt.plot([.825, .809, .802, .789, .784])\n",
    "plt.plot([.736, .755, .760, .761, .753])\n",
    "plt.show()"
   ]
  },
  {
   "cell_type": "markdown",
   "metadata": {},
   "source": [
    "As the number of training examples increases, the accuracy of the training set decreases but the accuracy of the testing set increases, except for the test accuracy for when training n=2000. Had this last test accuracy increased, the curves would be essentially inverse, flipped along the y axis. Again, disregarding the final test accuracy, it appears that the curves would eventually converge and stabilize around a value of 0.78."
   ]
  }
 ],
 "metadata": {
  "kernelspec": {
   "display_name": "Python 3",
   "language": "python",
   "name": "python3"
  },
  "language_info": {
   "codemirror_mode": {
    "name": "ipython",
    "version": 3
   },
   "file_extension": ".py",
   "mimetype": "text/x-python",
   "name": "python",
   "nbconvert_exporter": "python",
   "pygments_lexer": "ipython3",
   "version": "3.6.8"
  }
 },
 "nbformat": 4,
 "nbformat_minor": 4
}
